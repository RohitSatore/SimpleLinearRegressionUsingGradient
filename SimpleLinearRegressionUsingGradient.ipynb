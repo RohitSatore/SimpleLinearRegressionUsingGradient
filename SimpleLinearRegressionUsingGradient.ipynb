{
 "cells": [
  {
   "cell_type": "code",
   "execution_count": 1,
   "id": "535dd312",
   "metadata": {},
   "outputs": [],
   "source": [
    "import pandas as pd\n",
    "import numpy as np\n",
    "import matplotlib.pyplot as plt\n",
    "import seaborn as sns"
   ]
  },
  {
   "cell_type": "code",
   "execution_count": 2,
   "id": "02c2f3d4",
   "metadata": {},
   "outputs": [],
   "source": [
    "df = pd.read_csv(r'C:\\Users\\SATORE ROHIT BALAJI\\Documents\\Machine Learning\\Salary_Data.csv')"
   ]
  },
  {
   "cell_type": "code",
   "execution_count": 5,
   "id": "996eaaa5",
   "metadata": {},
   "outputs": [
    {
     "name": "stderr",
     "output_type": "stream",
     "text": [
      "C:\\Users\\SATORE ROHIT BALAJI\\anaconda3\\lib\\site-packages\\seaborn\\_decorators.py:36: FutureWarning: Pass the following variables as keyword args: x, y. From version 0.12, the only valid positional argument will be `data`, and passing other arguments without an explicit keyword will result in an error or misinterpretation.\n",
      "  warnings.warn(\n"
     ]
    },
    {
     "data": {
      "text/plain": [
       "<AxesSubplot:xlabel='YearsOfExperience', ylabel='Salary'>"
      ]
     },
     "execution_count": 5,
     "metadata": {},
     "output_type": "execute_result"
    },
    {
     "data": {
      "image/png": "[encoded data removed]",
      "text/plain": [
       "<Figure size 432x288 with 1 Axes>"
      ]
     },
     "metadata": {
      "needs_background": "light"
     },
     "output_type": "display_data"
    }
   ],
   "source": [
    "X= df['YearsOfExperience']\n",
    "Y=df['Salary']\n",
    "sns.scatterplot(X,Y)\n"
   ]
  },
  {
   "cell_type": "code",
   "execution_count": 6,
   "id": "9ee97fbc",
   "metadata": {},
   "outputs": [],
   "source": [
    "beta0=0\n",
    "beta1=0\n",
    "alpha=0.01\n",
    "count =10000\n",
    "n=float(len(X))"
   ]
  },
  {
   "cell_type": "code",
   "execution_count": 7,
   "id": "54bf4271",
   "metadata": {},
   "outputs": [],
   "source": [
    "for i in range(count): \n",
    "    Ybar = beta1*X + beta0    \n",
    "    beta1 = beta1 - (alpha/n)*sum(X*(Ybar-Y))\n",
    "    beta0 = beta0 - (alpha/n)*sum(Ybar-Y)"
   ]
  },
  {
   "cell_type": "code",
   "execution_count": 8,
   "id": "3e56b5ef",
   "metadata": {},
   "outputs": [
    {
     "name": "stdout",
     "output_type": "stream",
     "text": [
      "25836.12994145261 8877.077174777267\n"
     ]
    }
   ],
   "source": [
    "print(beta0,beta1)"
   ]
  },
  {
   "cell_type": "code",
   "execution_count": 9,
   "id": "e8b0a633",
   "metadata": {},
   "outputs": [],
   "source": [
    "Ybar = beta1*X + beta0"
   ]
  },
  {
   "cell_type": "code",
   "execution_count": 10,
   "id": "cc5c18df",
   "metadata": {},
   "outputs": [
    {
     "data": {
      "image/png": "[encoded data removed]",
      "text/plain": [
       "<Figure size 432x288 with 1 Axes>"
      ]
     },
     "metadata": {
      "needs_background": "light"
     },
     "output_type": "display_data"
    }
   ],
   "source": [
    "plt.scatter(X, Y) \n",
    "plt.plot([min(X), max(X)], [min(Ybar), max(Ybar)], color='green') \n",
    "plt.show()"
   ]
  },
  {
   "cell_type": "code",
   "execution_count": 11,
   "id": "fe87053a",
   "metadata": {},
   "outputs": [],
   "source": [
    "import math\n",
    "def RSE(y_true, y_predicted):\n",
    "   \n",
    "    y_true = np.array(y_true)\n",
    "    y_predicted = np.array(y_predicted)\n",
    "    RSS = np.sum(np.square(y_true - y_predicted))\n",
    "\n",
    "    rse = math.sqrt(RSS / (len(y_true) - 2))\n",
    "    return rse"
   ]
  },
  {
   "cell_type": "code",
   "execution_count": 12,
   "id": "c1db2eb2",
   "metadata": {},
   "outputs": [],
   "source": [
    "rse= RSE(df['Salary'],Ybar)"
   ]
  },
  {
   "cell_type": "code",
   "execution_count": 13,
   "id": "1508744f",
   "metadata": {},
   "outputs": [
    {
     "name": "stdout",
     "output_type": "stream",
     "text": [
      "17308.117868256668\n"
     ]
    }
   ],
   "source": [
    "print(rse)"
   ]
  },
  {
   "cell_type": "code",
   "execution_count": 14,
   "id": "00d3ad94",
   "metadata": {},
   "outputs": [],
   "source": [
    "from sklearn.model_selection import train_test_split\n",
    "from sklearn.linear_model import LinearRegression"
   ]
  },
  {
   "cell_type": "code",
   "execution_count": 16,
   "id": "7280fe7e",
   "metadata": {},
   "outputs": [
    {
     "name": "stdout",
     "output_type": "stream",
     "text": [
      "[[8877.07717251]]\n",
      "[25836.12995673]\n",
      "17308.117868256668\n"
     ]
    }
   ],
   "source": [
    "x = np.array(df['YearsOfExperience']).reshape(-1,1)\n",
    "y = np.array(df['Salary']).reshape(-1,1)\n",
    " \n",
    "\n",
    "lr = LinearRegression()\n",
    "lr.fit(x,y)\n",
    "\n",
    "\n",
    "print(lr.coef_)\n",
    "print(lr.intercept_)\n",
    "\n",
    "yp = lr.predict(x)\n",
    "rse = RSE(y,yp)\n",
    "\n",
    "print(rse)"
   ]
  },
  {
   "cell_type": "code",
   "execution_count": 17,
   "id": "b4008a58",
   "metadata": {},
   "outputs": [],
   "source": [
    "x = np.array(df['YearsOfExperience']).reshape(-1,1)\n",
    "y = np.array(df['Salary']).reshape(-1,1)\n",
    " "
   ]
  },
  {
   "cell_type": "code",
   "execution_count": 18,
   "id": "c073ff4a",
   "metadata": {},
   "outputs": [
    {
     "data": {
      "text/plain": [
       "LinearRegression()"
      ]
     },
     "execution_count": 18,
     "metadata": {},
     "output_type": "execute_result"
    }
   ],
   "source": [
    "lr = LinearRegression()\n",
    "lr.fit(x,y)"
   ]
  },
  {
   "cell_type": "code",
   "execution_count": 19,
   "id": "59f256a8",
   "metadata": {},
   "outputs": [
    {
     "name": "stdout",
     "output_type": "stream",
     "text": [
      "[[8877.07717251]]\n",
      "[25836.12995673]\n"
     ]
    }
   ],
   "source": [
    "print(lr.coef_)\n",
    "print(lr.intercept_)"
   ]
  },
  {
   "cell_type": "code",
   "execution_count": 20,
   "id": "d0b7a2a7",
   "metadata": {},
   "outputs": [],
   "source": [
    "yp = lr.predict(x)\n",
    "rse = RSE(y,yp)"
   ]
  },
  {
   "cell_type": "code",
   "execution_count": 21,
   "id": "8d10bf4b",
   "metadata": {},
   "outputs": [
    {
     "name": "stdout",
     "output_type": "stream",
     "text": [
      "17308.117868256668\n"
     ]
    }
   ],
   "source": [
    "print(rse)"
   ]
  },
  {
   "cell_type": "code",
   "execution_count": null,
   "id": "3e444646",
   "metadata": {},
   "outputs": [],
   "source": []
  }
 ],
 "metadata": {
  "kernelspec": {
   "display_name": "Python 3",
   "language": "python",
   "name": "python3"
  },
  "language_info": {
   "codemirror_mode": {
    "name": "ipython",
    "version": 3
   },
   "file_extension": ".py",
   "mimetype": "text/x-python",
   "name": "python",
   "nbconvert_exporter": "python",
   "pygments_lexer": "ipython3",
   "version": "3.8.8"
  }
 },
 "nbformat": 4,
 "nbformat_minor": 5
}
